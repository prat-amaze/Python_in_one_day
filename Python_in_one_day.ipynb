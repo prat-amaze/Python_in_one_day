{
  "nbformat": 4,
  "nbformat_minor": 0,
  "metadata": {
    "colab": {
      "provenance": [],
      "include_colab_link": true
    },
    "kernelspec": {
      "name": "python3",
      "display_name": "Python 3"
    },
    "language_info": {
      "name": "python"
    }
  },
  "cells": [
    {
      "cell_type": "markdown",
      "metadata": {
        "id": "view-in-github",
        "colab_type": "text"
      },
      "source": [
        "<a href=\"https://colab.research.google.com/github/prat-amaze/Python_in_one_day/blob/main/Python_in_one_day.ipynb\" target=\"_parent\"><img src=\"https://colab.research.google.com/assets/colab-badge.svg\" alt=\"Open In Colab\"/></a>"
      ]
    },
    {
      "cell_type": "markdown",
      "source": [
        "## Basics"
      ],
      "metadata": {
        "id": "zAJDZzu3okMS"
      }
    },
    {
      "cell_type": "code",
      "execution_count": null,
      "metadata": {
        "id": "FuAVs6UDoA7e"
      },
      "outputs": [],
      "source": [
        "#This is comment\n",
        "\"\"\"This\n",
        "is\n",
        "Multi-Line comment\"\"\"\n",
        "print(\"Hello World!\")"
      ]
    },
    {
      "cell_type": "markdown",
      "source": [
        "**Escape Sequences**"
      ],
      "metadata": {
        "id": "8f3TAF8guJKY"
      }
    },
    {
      "cell_type": "code",
      "source": [
        "print(\"Hello \\nWorld\") #\\n rest of the sentence goes on next line\n",
        "print(\"Hello \\\"World\") #\\\" to print \" inside a print statement\n",
        "print(\"Hello \\\\ World\") #\\\\ to print \\ inside a print statement\n",
        "print(\"Hello \\t World\") #\\t to print tab between two words\n",
        "# Task 1: search other escape sequences on the Internet and use them"
      ],
      "metadata": {
        "id": "yfi-1o0jpCNX"
      },
      "execution_count": null,
      "outputs": []
    },
    {
      "cell_type": "markdown",
      "source": [
        "Variables"
      ],
      "metadata": {
        "id": "hmsQEzDIujiA"
      }
    },
    {
      "cell_type": "markdown",
      "source": [
        "Rules for defining a variable in Python:\n",
        "A variable name can contain alphabets, digits, and underscores (_).\n",
        "For E.g. : demo_xyz = ‘It’s a string variable’\n",
        "\n",
        "A variable name can only start with an alphabet and underscore.\n",
        "It can't start with a digit. For example, 5harry is illegal and not allowed.\n",
        "\n",
        "No white space is allowed to be used inside a variable name.\n",
        "\n",
        "Also, reserved keywords are not recommended to be used as variable names.\n",
        "\n",
        "Examples of few valid variable names are harry, _demo, de_mo, etc."
      ],
      "metadata": {
        "id": "c_McOQ5CsrHn"
      }
    },
    {
      "cell_type": "code",
      "source": [
        "#Variables => They are used to store something\n",
        "a= 20.2 # We stored a real no inside a\n",
        "b= \"String\" # We stored a string inside b"
      ],
      "metadata": {
        "id": "tFbSFVKRpRsO"
      },
      "execution_count": null,
      "outputs": []
    },
    {
      "cell_type": "markdown",
      "source": [
        "DataTypes"
      ],
      "metadata": {
        "id": "7HFx7kthusVK"
      }
    },
    {
      "cell_type": "code",
      "source": [
        "\"\"\"Data Types in Python:\n",
        "Primarily there are the following data types in Python.\"\"\"\n",
        "\n",
        "#Integers (<class 'int'>): Used to store integers eg: 69, 420 etc\n",
        "\n",
        "#Floating point numbers (<class 'float'>): Used to store decimal or floating-point numbers. eg: 32.3, 54.5 etc\n",
        "\n",
        "#Strings (<class 'str'>): Used to store strings eg: \"Me\"\n",
        "\n",
        "#Booleans (<class 'bool'>): Used to store True/False type values eg: 1 or 0\n",
        "\n",
        "#None: None is literal to describe 'Nothing' in Python"
      ],
      "metadata": {
        "id": "BSDpOvjkti42"
      },
      "execution_count": null,
      "outputs": []
    },
    {
      "cell_type": "markdown",
      "source": [
        "**TypeCasting**"
      ],
      "metadata": {
        "id": "AkkzPksit8pp"
      }
    },
    {
      "cell_type": "markdown",
      "source": [
        "type() function allows a user to find data type of any variable."
      ],
      "metadata": {
        "id": "NDPBpuZ6tqVs"
      }
    },
    {
      "cell_type": "code",
      "source": [
        "a= \"3\"\n",
        "print(type(a))"
      ],
      "metadata": {
        "id": "oh-2O5k0vgpb"
      },
      "execution_count": null,
      "outputs": []
    },
    {
      "cell_type": "code",
      "source": [
        "#Str to int\n",
        "a= int(a)\n",
        "print(type(a)) #Note: You can change numbers inside a string to integers but you cant change sentences to integers or float"
      ],
      "metadata": {
        "id": "mTWX5PeXv0ws"
      },
      "execution_count": null,
      "outputs": []
    },
    {
      "cell_type": "code",
      "source": [
        "#int to float and float to int\n",
        "a= 3\n",
        "b=3.2\n",
        "print(float(a))\n",
        "print(int(b))"
      ],
      "metadata": {
        "id": "3mVWBTsowAUu"
      },
      "execution_count": null,
      "outputs": []
    },
    {
      "cell_type": "code",
      "source": [
        "#Tinker with other data types and see what else you can convert"
      ],
      "metadata": {
        "id": "c_p9YMDVxoXY"
      },
      "execution_count": null,
      "outputs": []
    },
    {
      "cell_type": "markdown",
      "source": [
        "**String Slicing**"
      ],
      "metadata": {
        "id": "-NR4P5gvyAyk"
      }
    },
    {
      "cell_type": "code",
      "source": [
        "a= \"this is a string\"\n",
        "print(len(a))\n",
        "#Index starts from Zero in programming languages\n",
        "print(a[0],a[3],a[8]) #You can access any letter of string\n",
        "print(a[0:4]) #You can also access parts of string\n",
        "print(a[3:9:2]) #You can also skip some steps\n",
        "print(a[3:-1]) #use negative numbers to access string from behind\n",
        "print(a[-5:-1])"
      ],
      "metadata": {
        "id": "AB75odHGx3kw"
      },
      "execution_count": null,
      "outputs": []
    },
    {
      "cell_type": "markdown",
      "source": [
        "**String Functions**"
      ],
      "metadata": {
        "id": "hc48TPrx0U_5"
      }
    },
    {
      "cell_type": "code",
      "source": [
        "print(a.endswith(\"string\")) #Tells if string ends with that argument\n",
        "print(a.capitalize()) #capitalizes first character of string\n",
        "print(a.upper()) #Capitalizes entire string\n",
        "print(a.lower()) #Converts entire string to Lower case\n",
        "print(a.find(\"is\")) #Finds index of first occurence of given argument\n",
        "print(a.replace(\"is\", \"are\")) #replaces first argument with second one in given string"
      ],
      "metadata": {
        "id": "c-Gc37CY0ZvI"
      },
      "execution_count": null,
      "outputs": []
    },
    {
      "cell_type": "markdown",
      "source": [
        "**String Formating**"
      ],
      "metadata": {
        "id": "PjwdQvi1uXlp"
      }
    },
    {
      "cell_type": "code",
      "source": [
        "a= \"Pratyush\"\n",
        "c= \"happy\"\n",
        "\n",
        "x= \"This is %s and he is %s\"%(a,c) # % Method\n",
        "print(x)\n",
        "\n",
        "d= \"This is {} and he is {}\" # Dot format\n",
        "dot= d.format(a,c)\n",
        "print(dot)\n",
        "\n",
        "f= f\"This is {a} and he is {c}\" #F-string\n",
        "print(f)"
      ],
      "metadata": {
        "id": "4R1vOLKAucnz"
      },
      "execution_count": null,
      "outputs": []
    },
    {
      "cell_type": "markdown",
      "source": [
        "## Basic DataStructures in Python"
      ],
      "metadata": {
        "id": "IGmmsfEDoTVP"
      }
    },
    {
      "cell_type": "markdown",
      "source": [
        "List"
      ],
      "metadata": {
        "id": "lTrDNU7A07LG"
      }
    },
    {
      "cell_type": "code",
      "source": [
        "l = ['uff', 'hmm', 'huh', 5, 4.85]\n",
        "#SLicing\n",
        "print(l[0])\n",
        "print(l[0:3])\n",
        "print(l[0:4:2])\n",
        "print(l[0:-1])"
      ],
      "metadata": {
        "id": "POsCGp30EvEK"
      },
      "execution_count": null,
      "outputs": []
    },
    {
      "cell_type": "code",
      "source": [
        "l1= [2,5,4,8,6]\n",
        "l1.reverse() #prints entire list in reverse order\n",
        "print(l1)\n",
        "l1.sort() #Sorts entire list in ascending order\n",
        "print(l1)"
      ],
      "metadata": {
        "id": "RZQxzDazExl1"
      },
      "execution_count": null,
      "outputs": []
    },
    {
      "cell_type": "code",
      "source": [
        "l1.append(7)\n",
        "print(l1)    # This will add 7 in the last of list\n",
        "l1.insert(3,8)\n",
        "print(l1)   # This will add 8 at 3 index in list\n",
        "l1.remove(4)\n",
        "print(l1)   #This will remove 4 from the list\n",
        "print(l1.pop(2))          #This will delete and return index 2 value."
      ],
      "metadata": {
        "id": "SymTK0u3AtnB"
      },
      "execution_count": null,
      "outputs": []
    },
    {
      "cell_type": "markdown",
      "source": [
        "Tuples:\n",
        "A tuple is an immutable data type in Python. A tuple in python is a collection of elements enclosed in () (parentheses)."
      ],
      "metadata": {
        "id": "YJUp2rQM54ZL"
      }
    },
    {
      "cell_type": "code",
      "source": [
        "a=()    # It's an example of empty tuple\n",
        "x=(1,)   # Tuple with single value i.e. 1\n",
        "tup1 = (1,2,3,4,5)\n",
        "tup1 = ('harry', 5, 'demo', 5.8)"
      ],
      "metadata": {
        "id": "6bcEPbNVDDE3"
      },
      "execution_count": null,
      "outputs": []
    },
    {
      "cell_type": "code",
      "source": [
        "print(tup1[0]) #Access tuples\n",
        "tup1[1]= \"lol\" #update tuples, I know I said its not possible. just go along with me.\n",
        "print(tup1)\n",
        "\n",
        "fruits = (\"apple\", \"banana\", \"cherry\")\n",
        "mytuple = fruits * 2 #Joining tuples\n",
        "print(mytuple)\n"
      ],
      "metadata": {
        "id": "upcIR2ujPV8M"
      },
      "execution_count": null,
      "outputs": []
    },
    {
      "cell_type": "markdown",
      "source": [
        "**Sets**\n",
        "\n",
        "Sets are used to store multiple items in a single variable\n",
        "\n",
        "A set is a collection which is unordered, unchangeable*, and unindexed.\n",
        "* Note: Set items are unchangeable, but you can remove items and add new items."
      ],
      "metadata": {
        "id": "y5jyEF_ZzwaA"
      }
    },
    {
      "cell_type": "code",
      "source": [
        "thisset = {\"apple\", \"banana\", \"cherry\"}\n",
        "for x in thisset: #access set elements\n",
        "  print(x)\n",
        "thisset.add(\"orange\") #add elements in set\n",
        "thisset.remove(\"banana\") # remove elements from set\n",
        "print(thisset)"
      ],
      "metadata": {
        "id": "9dwU3S0Y1awy"
      },
      "execution_count": null,
      "outputs": []
    },
    {
      "cell_type": "code",
      "source": [
        "#Join sets\n",
        "set1 = {\"a\", \"b\" , \"c\"}\n",
        "set2 = {1, 2, 3}\n",
        "set3 = set1.union(set2)\n",
        "print(set3)"
      ],
      "metadata": {
        "id": "3SgdHhpi7VlT"
      },
      "execution_count": null,
      "outputs": []
    },
    {
      "cell_type": "markdown",
      "source": [
        "**Dictionary**\n",
        "\n",
        "Dictionaries are used to store data values in key:value pairs.\n",
        "\n",
        "A dictionary is a collection which is ordered*, changeable and do not allow duplicates."
      ],
      "metadata": {
        "id": "NIP7P-l-9sEK"
      }
    },
    {
      "cell_type": "code",
      "source": [
        "thisdict = {\n",
        "  \"brand\": \"Ford\",\n",
        "  \"model\": \"Mustang\",\n",
        "  \"year\": 1964\n",
        "}"
      ],
      "metadata": {
        "id": "UhQEt8faBfqr"
      },
      "execution_count": null,
      "outputs": []
    },
    {
      "cell_type": "code",
      "source": [
        "#Access Dictionary Items\n",
        "x = thisdict[\"model\"]\n",
        "y= thisdict.get(\"model\") #get method\n",
        "print(x,\",\", y)\n",
        "\n",
        "print(thisdict.keys()) #all keys in the dict"
      ],
      "metadata": {
        "id": "kOeVl0V9BwTW"
      },
      "execution_count": null,
      "outputs": []
    },
    {
      "cell_type": "code",
      "source": [
        "#update items\n",
        "thisdict[\"year\"] = 2018\n",
        "print(thisdict[\"year\"])\n",
        "\n",
        "thisdict.update({\"year\": 2020}) #update method\n",
        "print(thisdict[\"year\"])\n",
        "\n",
        "#add items\n",
        "thisdict[\"color\"] = \"red\"\n",
        "print(thisdict)\n",
        "thisdict.update({\"color\": \"blue\"}) #update method\n",
        "print(thisdict)\n",
        "\n",
        "#remove items\n",
        "thisdict.pop(\"model\") #removes specified key:value\n",
        "print(thisdict)\n",
        "thisdict.popitem() #removes last item in dict\n",
        "print(thisdict)"
      ],
      "metadata": {
        "id": "Y2gEESSdBwKS"
      },
      "execution_count": null,
      "outputs": []
    },
    {
      "cell_type": "code",
      "source": [
        "#Dictionary Inside Dictionary\n",
        "cars = {\"car1\":{\"brand\": \"Ford\",\"model\": \"Mustang\",\"year\": 1964},\n",
        "        \"car2\":{\"brand\": \"Ford\",\"model\": \"Ecosport\",\"year\": 2015}}\n",
        "cars[\"car1\"][\"model\"] #access nested dictionary"
      ],
      "metadata": {
        "id": "4fBQ3k62Bv4f"
      },
      "execution_count": null,
      "outputs": []
    },
    {
      "cell_type": "markdown",
      "source": [
        "## Operators, Statments and Loops"
      ],
      "metadata": {
        "id": "vXn3FpBhYL39"
      }
    },
    {
      "cell_type": "markdown",
      "source": [
        "Operators\n",
        "- In Python, operators are special symbols that designate that some sort of computation should be performed.\n",
        "- Performs Mathematical, Boolean and Logical operations.\n",
        "- Python gives us flexibility of altering an operator's functionality.\n",
        "\n"
      ],
      "metadata": {
        "id": "128pe3RCYXJ-"
      }
    },
    {
      "cell_type": "code",
      "source": [
        "# Let's start with well-known mathematical operators\n",
        "print(2 + 3)    # Adding two numbers\n",
        "print(1 - 5)    # subtracting two numbers\n",
        "print(5 * 5)    # multiplying two numbers\n",
        "print(6 / 3)    # dividing two numbers"
      ],
      "metadata": {
        "id": "wsDT5sjjZT6m"
      },
      "execution_count": null,
      "outputs": []
    },
    {
      "cell_type": "code",
      "source": [
        "# There are some other mathematical operators that we use commonly\n",
        "print(10 % 3)   # calculates remainder when '10' is divided by '3'\n",
        "print(7 // 2)   # integer division of '7' by '2'. Also called FLOOR DIVISION\n",
        "print(2 ** 3)   # '2' is raised to the power of '3'. Also called EXPONENTIATION"
      ],
      "metadata": {
        "id": "flrxM8XHbFMu"
      },
      "execution_count": null,
      "outputs": []
    },
    {
      "cell_type": "code",
      "source": [
        "# Let's have a look at assignment operator\n",
        "a = 2\n",
        "print(a)\n",
        "\n",
        "b = 3\n",
        "print(b)\n",
        "\n",
        "'''\n",
        "Python has a function called id()\n",
        "which can be used to get address of the object in the memory\n",
        "'''\n",
        "print(id(a))\n",
        "print(id(b))\n",
        "\n",
        "# Let's see what happens when we re-assign one variable to other\n",
        "# a = b\n",
        "# print(id(a))\n",
        "# print(id(b))\n",
        "\n",
        "# Now, let's see what happens when we re-assign one variable\n",
        "a = 1\n",
        "# print(b)\n",
        "# print(id(a))\n",
        "# print(id(b))"
      ],
      "metadata": {
        "id": "To9YNc-EcecC"
      },
      "execution_count": null,
      "outputs": []
    },
    {
      "cell_type": "code",
      "source": [
        "# Let's look at comparison operators\n",
        "print(2 == 2)\n",
        "print(2 != 2)\n",
        "print(3 > 1)\n",
        "print(3 < 1)\n",
        "print(3 >= 1)\n",
        "print(3 <= 1)\n",
        "\n",
        "# print(3 > 3)\n",
        "# print(3 < 3)"
      ],
      "metadata": {
        "id": "uvXUcO1Lfc4W"
      },
      "execution_count": null,
      "outputs": []
    },
    {
      "cell_type": "code",
      "source": [
        "# Let's look at bitwise operators\n",
        "'''\n",
        "There is a function in Python called bin()\n",
        "It is used to get the binary representation of a integer\n",
        "'''\n",
        "print(bin(2))\n",
        "print(bin(3))\n",
        "print(bin(2 & 3))\n",
        "print(bin(2 | 3))\n",
        "print(bin(2 ^ 3))\n",
        "print(bin(~2))\n",
        "print(bin(2 >> 1))\n",
        "print(bin(2 << 1))"
      ],
      "metadata": {
        "id": "k2f3_zlujI18"
      },
      "execution_count": null,
      "outputs": []
    },
    {
      "cell_type": "code",
      "source": [
        "# Now we will look at conditional operators\n",
        "'''\n",
        "Conditional operators are used in defining the flow of the program usually\n",
        "Conditional operators take the form of spoken english words\n",
        "'''\n",
        "\n",
        "print(1 < 2 and 2 < 3)\n",
        "print(1 > 2 and 3 == 3)\n",
        "print(1 > 2 or 3 == 3)\n",
        "print(not 5 > 7)"
      ],
      "metadata": {
        "id": "TPxbmB9kcUrH"
      },
      "execution_count": null,
      "outputs": []
    },
    {
      "cell_type": "code",
      "source": [
        "# Identity operators are used to compare objects\n",
        "# Equality operator compares values taken by the objects\n",
        "x = 2\n",
        "y = 'a'\n",
        "print(x is y)\n",
        "\n",
        "y = 2\n",
        "print(x is y)\n",
        "\n",
        "y = 4\n",
        "print(x is y)"
      ],
      "metadata": {
        "id": "powU2N6Smtdd"
      },
      "execution_count": null,
      "outputs": []
    },
    {
      "cell_type": "code",
      "source": [
        "# There are operators to check whether an object is in the sequence\n",
        "x = 2\n",
        "y = [1, 2, 3, 4, 5]\n",
        "print(x in y)\n",
        "\n",
        "# x = [2, 5]\n",
        "# print(x in y)\n",
        "\n",
        "# x = [2, 3]\n",
        "# print(x in y)"
      ],
      "metadata": {
        "id": "5ykEbXWfmtZ8"
      },
      "execution_count": null,
      "outputs": []
    },
    {
      "cell_type": "code",
      "source": [
        "# Now let's try a different sequence\n",
        "x = 2\n",
        "y = '12345'\n",
        "print(x in y)\n",
        "\n",
        "# x = '25'\n",
        "# print(x in y)\n",
        "\n",
        "# x = '23'\n",
        "# print(x in y)"
      ],
      "metadata": {
        "id": "PXY7hF4xmtXq"
      },
      "execution_count": null,
      "outputs": []
    },
    {
      "cell_type": "markdown",
      "source": [
        "Statements and Conditionals\n",
        "- Statements are the programs that carry depend upon a state boolean value\n",
        "- Conditionals are the tools that python provides to write statements\n",
        "- Conditionals take the form of boolean implication logics usually"
      ],
      "metadata": {
        "id": "_KrIPjQDQD9t"
      }
    },
    {
      "cell_type": "code",
      "source": [
        "# Here is an example of a statement\n",
        "if 1 > 2:\n",
        "  print('False statement')\n",
        "\n",
        "# if conditional only executes the program inside\n",
        "# if and only if the statement provided evaluates to True\n",
        "\n",
        "# if 1:\n",
        "#   print('Statement will execute')\n",
        "\n",
        "# else conditional provides us control over the conditions of negation\n",
        "# x = 3\n",
        "# y = 2\n",
        "\n",
        "# if x > y:\n",
        "#   print('Do this...')\n",
        "# else:\n",
        "#   print('Do that...')\n",
        "\n",
        "# elif provides us control when complex boolean statements are involved\n",
        "# if x > y:\n",
        "#   print('Do this...')\n",
        "# elif x == y:\n",
        "#   print(\"Don't do anything\")\n",
        "# else:\n",
        "#   print('Do that...')\n",
        "\n",
        "# It should be noted that multiple elif statements can be provided as well\n",
        "# The first elif block that has True statement gets executed"
      ],
      "metadata": {
        "id": "2Yn_UqpDT5RN"
      },
      "execution_count": null,
      "outputs": []
    },
    {
      "cell_type": "code",
      "source": [
        "# Let's see some tips and tricks to reduce code in conditionals\n",
        "# If you have a short if-else situation, we can use this trick in Python\n",
        "x = 2\n",
        "y = 3\n",
        "print('Do this...') if x < y else print('Do that...')\n",
        "\n",
        "# We looked at how to direct the program flow\n",
        "# Let's look at how to obstruct program flow\n",
        "# Continue, Break and Pass are used to do this\n",
        "if 1 > 2:\n",
        "  pass"
      ],
      "metadata": {
        "id": "lPUeLv2G7CIW"
      },
      "execution_count": null,
      "outputs": []
    },
    {
      "cell_type": "markdown",
      "source": [
        "Loops\n",
        "- Loops are used to perform a repetitive task iteratively\n",
        "- There are two kinds of loops in Python.<br>\n",
        "  - For loop\n",
        "  - While loop\n"
      ],
      "metadata": {
        "id": "zasJlKsD86Er"
      }
    },
    {
      "cell_type": "code",
      "source": [
        "# Say you want to find out the sum of numbers from 1 to 100\n",
        "sum = 0\n",
        "num = 1\n",
        "while num <= 100:\n",
        "  sum = sum + num\n",
        "  num = num + 1\n",
        "\n",
        "print(sum)"
      ],
      "metadata": {
        "id": "z9oVq4i49Rsq"
      },
      "execution_count": null,
      "outputs": []
    },
    {
      "cell_type": "code",
      "source": [
        "# Let's see how can we implement this in For loop\n",
        "sum = 0\n",
        "num = 1\n",
        "for i in range(100):\n",
        "  sum = sum + num\n",
        "  num = num + 1\n",
        "\n",
        "print(sum)\n",
        "\n",
        "'''\n",
        "Note: I used a built-in function called range() to write this program\n",
        "More about this later in the functions section\n",
        "'''"
      ],
      "metadata": {
        "id": "UlXy5iVu-rlM"
      },
      "execution_count": null,
      "outputs": []
    },
    {
      "cell_type": "code",
      "source": [
        "# Now we know how to do a process iteratively\n",
        "# Let's see how to condition this iterative process\n",
        "# Say you want to find only the sum of odd numbers from 1 to 100\n",
        "odd_sum = 0\n",
        "num = 1\n",
        "while num <= 100:\n",
        "  if num % 2 == 1:\n",
        "    odd_sum = odd_sum + num\n",
        "  num = num + 1\n",
        "\n",
        "print(odd_sum)\n",
        "\n",
        "# Say you want to find only the sum of even numbers from 1 to 100\n",
        "even_sum = 0\n",
        "num = 1\n",
        "while num <= 100:\n",
        "  if num % 2 == 0:\n",
        "    even_sum = even_sum + num\n",
        "  num = num + 1\n",
        "\n",
        "print(even_sum)\n",
        "\n",
        "# Sanity check\n",
        "if sum == odd_sum + even_sum:\n",
        "  print('We programmed correctly')\n",
        "else:\n",
        "  print('Uh oh...')"
      ],
      "metadata": {
        "id": "1rAZ42Jy_fhi"
      },
      "execution_count": null,
      "outputs": []
    },
    {
      "cell_type": "code",
      "source": [
        "# There are ways to obstruct the flow of looping as well\n",
        "# This can be done by using continue and break\n",
        "# Say you want to check if a word is there in a sentence or not\n",
        "sentence = ['Hi', 'my', 'name', 'is', 'Josh']\n",
        "ref_word = 'Hello'\n",
        "\n",
        "for word in sentence:\n",
        "  if word == ref_word:\n",
        "    print('Word has been found!')\n",
        "    break\n",
        "\n",
        "else:\n",
        "  print('Word is not present in the sentence')\n",
        "\n",
        "'''\n",
        "Note: I have used if and else in different blocks of program.\n",
        "This is a property of loops and conditionals in Python\n",
        "'''"
      ],
      "metadata": {
        "id": "iNyK66anA52h"
      },
      "execution_count": null,
      "outputs": []
    },
    {
      "cell_type": "markdown",
      "source": [
        "## Functions\n",
        "\n",
        "\n",
        "\n"
      ],
      "metadata": {
        "id": "a0jHWvDAXSkW"
      }
    },
    {
      "cell_type": "code",
      "source": [
        "print(pow(2,3))\n",
        "print(sum([2,3]))\n",
        "print(abs(-2))"
      ],
      "metadata": {
        "id": "A4z9Ias1bwPh"
      },
      "execution_count": null,
      "outputs": []
    },
    {
      "cell_type": "markdown",
      "source": [
        "User Defined Functions"
      ],
      "metadata": {
        "id": "0FgzZStVcHi7"
      }
    },
    {
      "cell_type": "code",
      "source": [
        "def func1(a,b):\n",
        "  sum= 2+3\n",
        "  print(\"yay\")\n",
        "  return sum\n",
        "\n",
        "print(func1(2,3))"
      ],
      "metadata": {
        "id": "LzHvljc0cj-l"
      },
      "execution_count": null,
      "outputs": []
    },
    {
      "cell_type": "code",
      "source": [
        "def func2(a):\n",
        "  if(a<0):\n",
        "    a= -1*a\n",
        "  else:\n",
        "    a= a\n",
        "  return a\n",
        "\n",
        "print(func2(-3))"
      ],
      "metadata": {
        "id": "Z4zBi_QLdSJE"
      },
      "execution_count": null,
      "outputs": []
    },
    {
      "cell_type": "markdown",
      "source": [
        "when we repeat a process again and again, it's called iterative approach"
      ],
      "metadata": {
        "id": "C7GgEadbb6Wk"
      }
    },
    {
      "cell_type": "code",
      "source": [
        "#iterative functions\n",
        "def factorial(n):\n",
        "  fac= 1\n",
        "  for i in range(n):\n",
        "    fac= fac*(i+1)\n",
        "  return fac\n",
        "\n",
        "print(factorial(3))"
      ],
      "metadata": {
        "id": "dOgMsbrDaPjk"
      },
      "execution_count": null,
      "outputs": []
    },
    {
      "cell_type": "markdown",
      "source": [
        "when a function calls itself, its called recursive approach"
      ],
      "metadata": {
        "id": "fW_dc_vpcEYk"
      }
    },
    {
      "cell_type": "code",
      "source": [
        "#recursive functions\n",
        "def factorial_(n):\n",
        "  if n==1:\n",
        "    return 1\n",
        "  else:\n",
        "    return n*factorial_(n-1)\n",
        "\n",
        "print(factorial_(5))"
      ],
      "metadata": {
        "id": "_0glL4SsasM3"
      },
      "execution_count": null,
      "outputs": []
    },
    {
      "cell_type": "markdown",
      "source": [
        "**Lambda Function**\n",
        "*  A lambda function is a small anonymous function.\n",
        "*  A lambda function can take any number of arguments, but can only have one expression.\n",
        "\n",
        "Syntax:\n",
        "\n",
        "lambda arguments : expression"
      ],
      "metadata": {
        "id": "tQU42-pmd2UJ"
      }
    },
    {
      "cell_type": "code",
      "source": [
        "x = lambda a : a + 10\n",
        "print(x(5))\n",
        "\n",
        "y= lambda a,b: a+b\n",
        "print(y(2,3))"
      ],
      "metadata": {
        "id": "d9xRz_rdeQM6"
      },
      "execution_count": null,
      "outputs": []
    },
    {
      "cell_type": "markdown",
      "source": [
        "**Ennumerate and Join function**"
      ],
      "metadata": {
        "id": "0ySXlFRlgqfl"
      }
    },
    {
      "cell_type": "markdown",
      "source": [
        "Enumerate function: Enumerate takes any iterable as argument and returns index object pair"
      ],
      "metadata": {
        "id": "F2oBwcUFjSnG"
      }
    },
    {
      "cell_type": "code",
      "source": [
        "list_= [\"1\",\"2\",\"7\",\"4\",\"3\"]\n",
        "str_= \"Pratyush\"\n",
        "p= list(enumerate(list_))\n",
        "print(p)\n",
        "q= list(enumerate(str_))\n",
        "print(q)"
      ],
      "metadata": {
        "id": "n6UOUXPZiL66"
      },
      "execution_count": null,
      "outputs": []
    },
    {
      "cell_type": "code",
      "source": [
        "# Applying Enumerate\n",
        "for i, obj in enumerate(list_):\n",
        "  if i==3:\n",
        "    print(obj)"
      ],
      "metadata": {
        "id": "u_HiR6YxlFKm"
      },
      "execution_count": null,
      "outputs": []
    },
    {
      "cell_type": "markdown",
      "source": [
        "Join function: Join function joins all elements in given iterable with given argument"
      ],
      "metadata": {
        "id": "WPkgklZ6lj_c"
      }
    },
    {
      "cell_type": "code",
      "source": [
        "print((\" and \").join(list_))\n",
        "print((\" and \").join(str_))"
      ],
      "metadata": {
        "id": "jIQ8x91Rmq2h"
      },
      "execution_count": null,
      "outputs": []
    },
    {
      "cell_type": "markdown",
      "source": [
        "Map and Filter\n",
        "\n",
        " The syntax is:\n",
        "\n",
        "func(function, iterable(s))"
      ],
      "metadata": {
        "id": "rxT50ZvNq7aW"
      }
    },
    {
      "cell_type": "markdown",
      "source": [
        " Map function: The map() function iterates through all items in the given iterable and executes the function we passed as an argument on each of them."
      ],
      "metadata": {
        "id": "rxyF_eUNkN3_"
      }
    },
    {
      "cell_type": "code",
      "source": [
        "fruit = [\"Apple\", \"Banana\", \"Pear\", \"Apricot\", \"Orange\"]\n",
        "map_object = map(lambda s: s[0] == \"A\", fruit)\n",
        "\n",
        "print(list(map_object))"
      ],
      "metadata": {
        "id": "zSlJeLi1ripE"
      },
      "execution_count": null,
      "outputs": []
    },
    {
      "cell_type": "code",
      "source": [
        "x= map(int, list_)\n",
        "print(x)\n",
        "x= list(x)\n",
        "print(x)"
      ],
      "metadata": {
        "id": "a-jhtOVGngz9"
      },
      "execution_count": null,
      "outputs": []
    },
    {
      "cell_type": "code",
      "source": [
        "y= list(map(lambda i: i*i, x))\n",
        "print(y)"
      ],
      "metadata": {
        "id": "VJsdP-KvqXZf"
      },
      "execution_count": null,
      "outputs": []
    },
    {
      "cell_type": "markdown",
      "source": [
        "Filter function:  filter() forms a new list that contains only elements that satisfy a certain condition"
      ],
      "metadata": {
        "id": "HzA1nO1EqIWi"
      }
    },
    {
      "cell_type": "code",
      "source": [
        "filter_object = filter(lambda s: s[0] == \"A\", fruit)\n",
        "\n",
        "print(list(filter_object))"
      ],
      "metadata": {
        "id": "ndZxSA9PrXKu"
      },
      "execution_count": null,
      "outputs": []
    },
    {
      "cell_type": "code",
      "source": [
        "print(filter(lambda i: i >5, x))\n",
        "print(list(filter(lambda i: i >3, x)))"
      ],
      "metadata": {
        "id": "5aFnBMISr0eY"
      },
      "execution_count": null,
      "outputs": []
    },
    {
      "cell_type": "markdown",
      "source": [
        "**args and kwargs**\n",
        "\n",
        "Special Symbols Used for passing arguments:-\n",
        "\n",
        "\n",
        "\n",
        "*   *args (Non-Keyword Arguments)\n",
        "*   **kwargs (Keyword Arguments)\n",
        "\n",
        "\n"
      ],
      "metadata": {
        "id": "Lfk03BkGwraj"
      }
    },
    {
      "cell_type": "markdown",
      "source": [
        "The special syntax *args in function definitions in python is used to pass a variable number of arguments to a function.\n",
        "\n",
        "With *args, any number of extra arguments can be tacked on to your current formal parameters (including zero extra arguments)."
      ],
      "metadata": {
        "id": "r-HF3JGlxwzd"
      }
    },
    {
      "cell_type": "code",
      "source": [
        "#Example 1\n",
        "def sum(*args):\n",
        "  sum= 0\n",
        "  for i in args:\n",
        "    sum= sum+i\n",
        "  return sum\n",
        "\n",
        "print(sum(2,3,4))"
      ],
      "metadata": {
        "id": "qi3uaxdYy0JH"
      },
      "execution_count": null,
      "outputs": []
    },
    {
      "cell_type": "code",
      "source": [
        "#Example 2\n",
        "def sum(x, *boo):\n",
        "  sum= 0\n",
        "  for i in boo:\n",
        "    sum= sum+i\n",
        "  return sum\n",
        "\n",
        "print(sum(2,3,4)) #Here first argument i.e x is 2 and rest of the arguments are under *boo/*args"
      ],
      "metadata": {
        "id": "sSLBzYxnzj-7"
      },
      "execution_count": null,
      "outputs": []
    },
    {
      "cell_type": "markdown",
      "source": [
        "*kwargs in function definitions in python is used to pass a keyworded, variable-length argument list. We use the name kwargs with the double star.\n",
        "\n",
        "Note: A keyword argument is where you provide a name to the variable as you pass it into the function.\n",
        "\n",
        "One can think of the kwargs as being a dictionary that maps each keyword to the value that we pass alongside it."
      ],
      "metadata": {
        "id": "STjvRF430IS_"
      }
    },
    {
      "cell_type": "code",
      "source": [
        "#Example 1\n",
        "def myFun(**kwargs):\n",
        "    for key, value in kwargs.items():\n",
        "        print(f\"{key} == {value}\")\n",
        "\n",
        "myFun(first='Geeks', mid='for', last='Geeks')"
      ],
      "metadata": {
        "id": "5jdBtlzj2JXI"
      },
      "execution_count": null,
      "outputs": []
    },
    {
      "cell_type": "code",
      "source": [
        "#Example 2\n",
        "def myFun(arg,**kwargs):\n",
        "    for key, value in kwargs.items():\n",
        "        print(f\"{key} == {value}\")\n",
        "\n",
        "myFun(\"Geeks\", mid='for', last='Geeks') # p=\"str\" is argument given by me and rest of key worded argument are inside **kwargs"
      ],
      "metadata": {
        "id": "jFG_rTkr0tAz"
      },
      "execution_count": null,
      "outputs": []
    },
    {
      "cell_type": "code",
      "source": [],
      "metadata": {
        "id": "j2WLug5I1zOy"
      },
      "execution_count": null,
      "outputs": []
    },
    {
      "cell_type": "markdown",
      "source": [
        "## File Handling\n"
      ],
      "metadata": {
        "id": "ksqHCMSuLHCD"
      }
    },
    {
      "cell_type": "markdown",
      "source": [
        "The open() function takes two parameters; filename, and mode.\n",
        "\n",
        "There are four different methods (modes) for opening a file:\n",
        "\n",
        "* \"r\" - Read - Default value. Opens a file for reading, error if the file does not exist\n",
        "\n",
        "* \"a\" - Append - Opens a file for appending, creates the file if it does not exist\n",
        "\n",
        "* \"w\" - Write - Opens a file for writing, creates the file if it does not exist\n",
        "\n",
        "* \"x\" - Create - Creates the specified file, returns an error if the file exists\n",
        "\n",
        "In addition you can specify if the file should be handled as binary or text mode\n",
        "\n",
        "* \"t\" - Text - Default value. Text mode\n",
        "\n",
        "* \"b\" - Binary - Binary mode (e.g. images)"
      ],
      "metadata": {
        "id": "fVcMLKU6LQo1"
      }
    },
    {
      "cell_type": "code",
      "source": [
        "#f = open(\"DemoFile.txt\")\n",
        "f = open(\"DemoFile.txt\", \"r\")"
      ],
      "metadata": {
        "id": "MAtQ08_mtqMI"
      },
      "execution_count": null,
      "outputs": []
    },
    {
      "cell_type": "markdown",
      "source": [
        "The open() function returns a file object, which has a read() method for reading the content of the file:\n",
        "\n"
      ],
      "metadata": {
        "id": "JoHEZgdzuHJ9"
      }
    },
    {
      "cell_type": "code",
      "source": [
        "f = open(\"DemoFile.txt\", \"r\")\n",
        "print(f.read())\n",
        "f.close() #Its a good practice to close files after you are done"
      ],
      "metadata": {
        "id": "jp0fVL2RueVQ"
      },
      "execution_count": null,
      "outputs": []
    },
    {
      "cell_type": "markdown",
      "source": [
        "Read Only Parts of the File"
      ],
      "metadata": {
        "id": "VH4vogXxugvt"
      }
    },
    {
      "cell_type": "code",
      "source": [
        "f = open(\"DemoFile.txt\", \"r\")\n",
        "print(f.read(5))\n",
        "#It will read from where it stopped previously\n",
        "print(f.read(5))"
      ],
      "metadata": {
        "id": "FFPvEz9svLOu"
      },
      "execution_count": null,
      "outputs": []
    },
    {
      "cell_type": "markdown",
      "source": [
        "Read Lines:\n",
        "\n",
        "You can return one line by using the readline() method:"
      ],
      "metadata": {
        "id": "NzfLAICyvQAm"
      }
    },
    {
      "cell_type": "code",
      "source": [
        "print(f.readline()) #it started from where we stopped b4 but still read full line."
      ],
      "metadata": {
        "id": "ORTn9TC_vjgl"
      },
      "execution_count": null,
      "outputs": []
    },
    {
      "cell_type": "code",
      "source": [
        "print(f.readline()) #it will read next line\n",
        "f.close()"
      ],
      "metadata": {
        "id": "hso7JO9AvmuF"
      },
      "execution_count": null,
      "outputs": []
    },
    {
      "cell_type": "markdown",
      "source": [
        "Loop through the file line by line:"
      ],
      "metadata": {
        "id": "RaALgGPvwLvD"
      }
    },
    {
      "cell_type": "code",
      "source": [
        "f = open(\"DemoFile.txt\", \"r\")\n",
        "for x in f:\n",
        "  print(x)\n",
        "f.close()"
      ],
      "metadata": {
        "id": "J_RnOhEhv26m"
      },
      "execution_count": null,
      "outputs": []
    },
    {
      "cell_type": "markdown",
      "source": [
        "To write to an existing file, you must add a parameter to the open() function:\n",
        "\n",
        "* \"a\" - Append - will append to the end of the file\n",
        "\n",
        "* \"w\" - Write - will overwrite any existing content\n",
        "\n",
        "Both append and write mode will create a file if it doesn't exist"
      ],
      "metadata": {
        "id": "RYw4lodHv-hU"
      }
    },
    {
      "cell_type": "code",
      "source": [
        "f = open(\"demofile2.txt\", \"a\")\n",
        "f.write(\"Now the file has more content!\")\n",
        "f.close()\n",
        "\n",
        "#open and read the file after the appending:\n",
        "f = open(\"demofile2.txt\", \"r\")\n",
        "print(f.read())\n",
        "f.close()"
      ],
      "metadata": {
        "id": "sDh5StWyw2kL"
      },
      "execution_count": null,
      "outputs": []
    },
    {
      "cell_type": "code",
      "source": [
        "f = open(\"demofile3.txt\", \"w\")\n",
        "f.write(\"Woops! I have deleted the content!\")\n",
        "f.close()\n",
        "\n",
        "#open and read the file after the overwriting:\n",
        "f = open(\"demofile3.txt\", \"r\")\n",
        "print(f.read())\n",
        "f.close()"
      ],
      "metadata": {
        "id": "fv5dh1-hw8Ta"
      },
      "execution_count": null,
      "outputs": []
    },
    {
      "cell_type": "markdown",
      "source": [
        "\"x\" - Create - will create a file, returns an error if the file exist"
      ],
      "metadata": {
        "id": "kWLAERzcw_CJ"
      }
    },
    {
      "cell_type": "code",
      "source": [
        "f = open(\"myfile.txt\", \"x\")\n",
        "f.close()"
      ],
      "metadata": {
        "id": "kz9Y9TACxFiR"
      },
      "execution_count": null,
      "outputs": []
    },
    {
      "cell_type": "markdown",
      "source": [
        "## Introduction to Object Oriented Programming"
      ],
      "metadata": {
        "id": "hVztOu_TDIje"
      }
    },
    {
      "cell_type": "code",
      "source": [
        "# Creating class\n",
        "\n",
        "class Employee:\n",
        "# writing pass instead of leaving empty will throw a error in a large program where you need an empty class\n",
        "    def __init__(self, first, last, pay):\n",
        "        self.first = first\n",
        "        self.last = last\n",
        "        self.email = first + '.' + last + '@company.com'\n",
        "        self.pay = pay\n",
        "\n",
        "    def fullname(self):   # Class methods automatically takes self as arguments. So, we have to pass self as arguments to avoid TypeError\n",
        "        print('{} {}'.format(self.first, self.last))\n",
        "\n",
        "\n",
        "emp_1 = Employee('John', 'Doe', 70000)  # name: John Doe & pay: 70000\n",
        "emp_2 = Employee('Corey', 'Schafer', 60000)  # name: Corey Schafer & pay: 60000\n",
        "\n",
        "# Instance variable contains data that is unique to each instance\n",
        "\n",
        "print(emp_1.email)\n",
        "\n",
        "# Class methods are used to do operations with classes\n",
        "\n",
        "emp_1.fullname()\n",
        "\n",
        "# Remember, parantheses are used for methods like fullname() but not for attributes like email"
      ],
      "metadata": {
        "id": "r8Uef2ktDReF"
      },
      "execution_count": null,
      "outputs": []
    },
    {
      "cell_type": "code",
      "source": [
        "# Class variables\n",
        "\n",
        "class Employee:\n",
        "    raise_percent = 1.04\n",
        "    num_of_emps = 0\n",
        "\n",
        "    def __init__(self, first, last, pay):\n",
        "        self.first = first\n",
        "        self.last = last\n",
        "        self.email = first + '.' + last + '@company.com'\n",
        "        self.pay = pay\n",
        "        Employee.num_of_emps += 1   # This is based on a property that __init__ runs only if a new instance is created.\n",
        "\n",
        "    def apply_raise(self):\n",
        "        self.pay = self.pay * self.raise_percent # Employee.raise_percent\n",
        "\n",
        "emp_1 = Employee('Sai', 'Shashank', 70000)\n",
        "emp_2 = Employee('Corey', 'Schafer', 60000)\n",
        "\n",
        "print(emp_1.pay) # output: 70000\n",
        "emp_1.apply_raise()\n",
        "print(emp_2.pay) # output: 72800\n",
        "\n",
        "# Class variable(here, raise_percent) can be accessed by class or an instance of class\n",
        "\n",
        "print(Employee.raise_percent) # output: 1.04\n",
        "print(emp_1.raise_percent) # output: 1.04\n",
        "\n",
        "Employee.raise_percent = 1.05\n",
        "# This changes the rasie_percent variable to 1.05 and the instances of class also change it to 1.05\n",
        "\n",
        "emp_1.raise_percent = 1.06\n",
        "# This creates a new attribute to emp_1 called raise_percent whereas rest of the instances have same as class variable.\n",
        "# But since in appl_raise method, we used raise_percent to be directly taken from class and not instance, it stays 1.05 and not 1.06.\n",
        "# Using self instead of class name will make things go the way we want."
      ],
      "metadata": {
        "id": "BkBbUOEyFkDl"
      },
      "execution_count": null,
      "outputs": []
    },
    {
      "cell_type": "code",
      "source": [
        "# Class and Static Methods, Decorators\n",
        "\n",
        "# regular methods: take class instances automatically as arguments\n",
        "# class methods: take class automatically as an argument\n",
        "# static methods: doesn't take any automatic arguments but has some logical connection to class according to the task performed by the program\n",
        "class Employee:\n",
        "    raise_percent = 1.04\n",
        "    num_of_emps = 0\n",
        "\n",
        "    def __init__(self, first, last, pay):\n",
        "        self.first = first\n",
        "        self.last = last\n",
        "        self.pay = pay\n",
        "        self.email = first + '.' + last + '@company.com'\n",
        "        Employee.num_of_emps += 1\n",
        "\n",
        "    def apply_rasie(self):\n",
        "        self.pay = self.pay * self.raise_percent\n",
        "\n",
        "    def fullname(self):\n",
        "        print('{} {}'.format(self.first, self.last))\n",
        "\n",
        "    @classmethod  # decorator called classmethod\n",
        "    def set_raise_percent(cls, percent):\n",
        "        cls.raise_percent = percent\n",
        "\n",
        "    @classmethod\n",
        "    def from_string_to_inst(cls, emp_str): # Calling this method will save a new employee automatically to class\n",
        "        first, last, pay = emp_str.split('-')\n",
        "        return cls(first, last, pay)\n",
        "\n",
        "    @staticmethod  # decorator called staticmethod\n",
        "    def is_workday(day):\n",
        "        if day.weekday == 5 or day.weekday == 6:\n",
        "            return False\n",
        "        return True\n",
        "\n",
        "emp_1 = Employee('Sai', 'Shashank', 70000)\n",
        "emp_2 = Employee('Corey', 'Schafer', 60000)\n",
        "\n",
        "print(Employee.rasie_percent)\n",
        "Employee.set_raise_percent(1.05)\n",
        "print(Employee.rasie_percent)\n",
        "\n",
        "\n",
        "emp_3_str = 'Jeff-Bezos-70000'\n",
        "emp_4_str = 'Sundar-Pichai-60000'\n",
        "\n",
        "emp_3 = Employee.from_string_to_inst(emp_3_str)\n",
        "\n",
        "import datetime\n",
        "today = datetime.date(2021, 10, 4)   # Monday\n",
        "print(Employee.is_workday(today))    # output: True"
      ],
      "metadata": {
        "id": "Ww-mgoT5Jh_J"
      },
      "execution_count": null,
      "outputs": []
    },
    {
      "cell_type": "code",
      "source": [
        "# Dunder Methods\n",
        "\n",
        "class Employee:\n",
        "    raise_percent = 1.04\n",
        "\n",
        "    def __init__(self, first, last, pay):\n",
        "        self.first = first\n",
        "        self.last = last\n",
        "        self.pay = pay\n",
        "        self.email = first + '.' + last +'@company.com'\n",
        "\n",
        "    def fullname(self):\n",
        "        print('{} {}'.format(self.first, self.last))\n",
        "\n",
        "    def apply_rasie(self):\n",
        "        self.pay = self.pay * self.raise_percent\n",
        "\n",
        "    def __repr__(self):\n",
        "        return 'Employee(\"{}, {}, {}\")'.format(self.first, self.last, self.pay)\n",
        "\n",
        "    def __str__(self):\n",
        "        return '{}-{}'.format(self.fullname(), self.email)\n",
        "\n",
        "\n",
        "emp_1 = Employee('Sai', 'Shashank', 70000)\n",
        "emp_2 = Employee('Corey', 'Schafer', 60000)\n",
        "\n",
        "print(repr(emp_1)) # output: Employee('Sai', 'Shashank', 70000)\n",
        "print(emp_1) # output: Sai Shashank-Sai.Shashank@company.com"
      ],
      "metadata": {
        "id": "FzmGpFDKKHA2"
      },
      "execution_count": null,
      "outputs": []
    },
    {
      "cell_type": "code",
      "source": [
        "# Getters, Setters and Deleters\n",
        "\n",
        "class Employee:\n",
        "\n",
        "    def __init__(self, first, last):\n",
        "        self.first = first\n",
        "        self.last = last\n",
        "        # self.email = first + '.' + last + '@company.com'\n",
        "\n",
        "    @property\n",
        "    def email(self):\n",
        "        print('{}.{}@company.com'.format(self.first, self.last))\n",
        "\n",
        "    @property\n",
        "    def fullname(self):\n",
        "        print('{} {}'.format(self.first, self.last))\n",
        "\n",
        "    @fullname.setter\n",
        "    def fullname(self, name):\n",
        "        first, last = name.split(\" \")\n",
        "        self.first = first\n",
        "        self.last = last\n",
        "\n",
        "    @fullname.deleter\n",
        "    def fullname(self, name):\n",
        "        print(\"Delete Name!\")\n",
        "        self.first = None\n",
        "        self.last = None\n",
        "\n",
        "emp_1 = Employee('John', 'Doe')\n",
        "\n",
        "# To overcome this type of problem, we use getter and setter methods\n",
        "# Add a property decorator '@property' above email method which we created\n",
        "# it will make email an attribute of instance instead of a method and it updates accordingly\n",
        "\n",
        "print(emp_1.email) # output: Sai.Shashank@company.com\n",
        "emp_1.last = 'Hruthik'\n",
        "print(emp_1.email) # output: Sai.Hruthik@company.com\n",
        "\n",
        "# emp_1.fullname = 'Corey Schafer'\n",
        "\n",
        "# This will run into an AttributeError and to avoid this,\n",
        "# create a new method with same name(here, fullname) and use a decorator called '@{}.setter'.format(name_of_method) and write the method body as above\n",
        "\n",
        "# now\n",
        "\n",
        "emp_1.fullname = 'Corey Schafer' # emp_1.first = 'Corey', emp_1.last = 'Schafer'\n",
        "\n",
        "del emp_1.fullname # output: Delete Name!"
      ],
      "metadata": {
        "id": "JtYy_sEPKWgl"
      },
      "execution_count": null,
      "outputs": []
    },
    {
      "cell_type": "code",
      "source": [
        "# Inheritance and Sub-classes\n",
        "\n",
        "class Employee:\n",
        "\n",
        "    raise_percent = 1.04\n",
        "\n",
        "    def __init__(self, first, last, pay):\n",
        "        self.first = first\n",
        "        self.last = last\n",
        "        self.pay = pay\n",
        "        self.email = first + '.' + last + '@company.com'\n",
        "\n",
        "    def fullname(self):\n",
        "        print('{} {}'.format(self.first, self.last))\n",
        "\n",
        "    def apply_raise(self):\n",
        "        self.pay = self.pay * self.raise_percent\n",
        "\n",
        "class Developer(Employee):  # Passing in Employee will 'inherit' all the data and methods in Employee class to Developer class\n",
        "    raise_percent = 1.10\n",
        "\n",
        "    def __init__(self, first, last, pay, prog_lang):  # To pass in a new attribute to an instance, one should define __init__ again.\n",
        "        super().__init__(first, last, pay) # This uses __init__ of its super class\n",
        "        self.prog_lang = prog_lang\n",
        "\n",
        "class Manager(Employee):\n",
        "\n",
        "    def __init__(self, first, last, pay, employees=None):\n",
        "        super().__init__(first, last, pay)\n",
        "        self.employees = employees\n",
        "        if employees is None:\n",
        "            self.employees = []\n",
        "        else:\n",
        "            self.employees = employees\n",
        "    def add_emp(self, emp):\n",
        "        if emp not in self.employees:\n",
        "            self.employees.append(emp)\n",
        "    def remove_emp(self, emp):\n",
        "        if emp in self.employees:\n",
        "            self.employees.remove(emp)\n",
        "    def print_emp(self):\n",
        "        print(self.employees)\n",
        "\n",
        "dev_1 = Developer('Sai', 'Shashank', 70000, 'Python')\n",
        "dev_2 = Developer('Corey', 'Schafer', 60000, 'Java')\n",
        "\n",
        "mgr_1 = Manager('Tim', 'Cook', 80000, [dev_1])\n",
        "\n",
        "print(mgr_1.email) # output: Tim.Cook@company.com\n",
        "mgr_1.print_emps() # output: [dev_1]\n",
        "mgr_1.remove_emp(dev_1)\n",
        "mgr_1.print_emps() # output: []\n",
        "mgr_1.add_emp(dev_2)\n",
        "mgr_1.print_emps() # output: [dev_2]"
      ],
      "metadata": {
        "id": "iRodRR9nLSys"
      },
      "execution_count": null,
      "outputs": []
    }
  ]
}